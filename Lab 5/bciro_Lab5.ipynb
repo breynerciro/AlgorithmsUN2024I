{
  "nbformat": 4,
  "nbformat_minor": 0,
  "metadata": {
    "colab": {
      "provenance": [],
      "include_colab_link": true
    },
    "kernelspec": {
      "name": "python3",
      "display_name": "Python 3"
    },
    "language_info": {
      "name": "python"
    }
  },
  "cells": [
    {
      "cell_type": "markdown",
      "metadata": {
        "id": "view-in-github",
        "colab_type": "text"
      },
      "source": [
        "<a href=\"https://colab.research.google.com/github/breynerciro/AlgorithmsUN2024I/blob/main/Lab%205/bciro_Lab5.ipynb\" target=\"_parent\"><img src=\"https://colab.research.google.com/assets/colab-badge.svg\" alt=\"Open In Colab\"/></a>"
      ]
    },
    {
      "cell_type": "markdown",
      "source": [
        "# **Partitions**\n",
        "\n",
        "## **Names:** Breyner Ciro\n",
        "## **UN Ids:** bciro,\n",
        "## **List numbers:** 8,\n",
        "## **Group :** 11\n",
        "\n",
        "_If you use an existing codes include the reference, link and a explanation of how the code works._"
      ],
      "metadata": {
        "id": "138HHQxvs_U7"
      }
    },
    {
      "cell_type": "markdown",
      "source": [
        "## 1. Write a code that produces the Bell numbers that count the possible partitions of a set fo $n$ elements.\n",
        "\n",
        "**Hints**:\n",
        "-  Output the n-th Bell Number - [stackexchange](https://codegolf.stackexchange.com/questions/132379/output-the-n-th-bell-number).\n",
        "\n",
        "- Bell number [wikipedia](https://en.wikipedia.org/wiki/Bell_number)\n",
        "\n",
        "\n",
        "\n",
        "\n"
      ],
      "metadata": {
        "id": "rdu7PcWttfnz"
      }
    },
    {
      "cell_type": "code",
      "source": [
        "def bell_number(n):\n",
        "    bell_triangle = [[1]]\n",
        "\n",
        "    for i in range(1, n):\n",
        "        row = [bell_triangle[i - 1][-1]]\n",
        "        for j in range(1, i + 1):\n",
        "            row.append(row[j - 1] + bell_triangle[i - 1][j - 1])\n",
        "        bell_triangle.append(row)\n",
        "\n",
        "    return bell_triangle[-1][-1]\n",
        "\n",
        "# Test cases (0-indexed)\n",
        "print(bell_number(1))   # Output: 1\n",
        "print(bell_number(2))   # Output: 2\n",
        "print(bell_number(3))   # Output: 5\n",
        "print(bell_number(4))   # Output: 15\n",
        "print(bell_number(5))   # Output: 52\n",
        "print(bell_number(6))   # Output: 203\n",
        "print(bell_number(7))   # Output: 877\n",
        "print(bell_number(8))   # Output: 4140\n",
        "print(bell_number(9))   # Output: 21147\n",
        "print(bell_number(10))  # Output: 115975\n",
        "print(bell_number(11))  # Output: 678570\n",
        "print(bell_number(12))  # Output: 4213597\n",
        "print(bell_number(13))  # Output: 27644437\n",
        "print(bell_number(14))  # Output: 190899322\n",
        "print(bell_number(15))  # Output: 1382958545"
      ],
      "metadata": {
        "id": "WNo88vvfDFBn",
        "outputId": "83d5047c-b3e3-4cb1-9fce-6e8662e91815",
        "colab": {
          "base_uri": "https://localhost:8080/"
        }
      },
      "execution_count": 1,
      "outputs": [
        {
          "output_type": "stream",
          "name": "stdout",
          "text": [
            "1\n",
            "2\n",
            "5\n",
            "15\n",
            "52\n",
            "203\n",
            "877\n",
            "4140\n",
            "21147\n",
            "115975\n",
            "678570\n",
            "4213597\n",
            "27644437\n",
            "190899322\n",
            "1382958545\n"
          ]
        }
      ]
    },
    {
      "cell_type": "markdown",
      "source": [
        "## 2.Write a code that that produces the list of all partititions of the set of $[n]=\\{ 1,2,3,4 \\cdots , n-1, n\\}$ with $0 \\le n \\le 10$.\n",
        "\n",
        "**Hints**:\n",
        "- Set partitions in Python - https://stackoverflow.com/questions/19368375/set-partitions-in-python\n",
        "- Generate all partition of a set - https://www.geeksforgeeks.org/generate-all-partition-of-a-set/"
      ],
      "metadata": {
        "id": "vSafufOkvDht"
      }
    },
    {
      "cell_type": "code",
      "source": [
        "from itertools import combinations\n",
        "def partitions(n):\n",
        "    # Base case: if n is 0, there is only one partition: the empty set\n",
        "    if n == 0:\n",
        "        yield []\n",
        "        return\n",
        "\n",
        "    # Generate partitions of the set [1, 2, ..., n]\n",
        "    for p in partitions(n - 1):\n",
        "        yield [[n]] + p\n",
        "        for i, subset in enumerate(p):\n",
        "            yield p[:i] + [[n] + subset] + p[i + 1:]\n",
        "\n",
        "def constant_sum_partitions(n):\n",
        "    for p in partitions(n):\n",
        "        # Calculate the sum of elements in each subset of the partition\n",
        "        sums = [sum(subset) for subset in p]\n",
        "\n",
        "        # If all sums are equal, yield this partition\n",
        "        if len(set(sums)) == 1:\n",
        "            yield p\n",
        "\n",
        "# Test the function\n",
        "for n in range(11):\n",
        "    print(f\"Partitions of {n} with equal sums:\")\n",
        "    for p in constant_sum_partitions(n):\n",
        "        print(p)"
      ],
      "metadata": {
        "id": "CMt1xuAZEbwv",
        "outputId": "542045c4-c521-439f-d203-f9d2a74d5397",
        "colab": {
          "base_uri": "https://localhost:8080/"
        }
      },
      "execution_count": 3,
      "outputs": [
        {
          "output_type": "stream",
          "name": "stdout",
          "text": [
            "Partitions of 0 with equal sums:\n",
            "Partitions of 1 with equal sums:\n",
            "[[1]]\n",
            "Partitions of 2 with equal sums:\n",
            "[[2, 1]]\n",
            "Partitions of 3 with equal sums:\n",
            "[[3], [2, 1]]\n",
            "[[3, 2, 1]]\n",
            "Partitions of 4 with equal sums:\n",
            "[[3, 2], [4, 1]]\n",
            "[[4, 3, 2, 1]]\n",
            "Partitions of 5 with equal sums:\n",
            "[[5], [3, 2], [4, 1]]\n",
            "[[5, 4, 3, 2, 1]]\n",
            "Partitions of 6 with equal sums:\n",
            "[[4, 3], [5, 2], [6, 1]]\n",
            "[[6, 5, 4, 3, 2, 1]]\n",
            "Partitions of 7 with equal sums:\n",
            "[[7], [4, 3], [5, 2], [6, 1]]\n",
            "[[5, 4, 3, 2], [7, 6, 1]]\n",
            "[[7, 5, 2], [6, 4, 3, 1]]\n",
            "[[7, 4, 3], [6, 5, 2, 1]]\n",
            "[[6, 5, 3], [7, 4, 2, 1]]\n",
            "[[7, 6, 5, 4, 3, 2, 1]]\n",
            "Partitions of 8 with equal sums:\n",
            "[[5, 4], [6, 3], [7, 2], [8, 1]]\n",
            "[[8, 4], [7, 3, 2], [6, 5, 1]]\n",
            "[[8, 5, 3, 2], [7, 6, 4, 1]]\n",
            "[[7, 6, 3, 2], [8, 5, 4, 1]]\n",
            "[[7, 5], [6, 4, 2], [8, 3, 1]]\n",
            "[[7, 5, 4, 2], [8, 6, 3, 1]]\n",
            "[[6, 5, 4, 3], [8, 7, 2, 1]]\n",
            "[[8, 7, 3], [6, 5, 4, 2, 1]]\n",
            "[[7, 5], [8, 4], [6, 3, 2, 1]]\n",
            "[[8, 6, 4], [7, 5, 3, 2, 1]]\n",
            "[[7, 6, 5], [8, 4, 3, 2, 1]]\n",
            "[[8, 7, 6, 5, 4, 3, 2, 1]]\n",
            "Partitions of 9 with equal sums:\n",
            "[[9], [5, 4], [6, 3], [7, 2], [8, 1]]\n",
            "[[8, 4, 3], [7, 6, 2], [9, 5, 1]]\n",
            "[[7, 5, 3], [9, 4, 2], [8, 6, 1]]\n",
            "[[8, 7], [6, 4, 3, 2], [9, 5, 1]]\n",
            "[[8, 7], [9, 4, 2], [6, 5, 3, 1]]\n",
            "[[9, 6], [8, 5, 2], [7, 4, 3, 1]]\n",
            "[[9, 6], [8, 4, 3], [7, 5, 2, 1]]\n",
            "[[9, 6], [7, 5, 3], [8, 4, 2, 1]]\n",
            "[[8, 7], [6, 5, 4], [9, 3, 2, 1]]\n",
            "[[8, 7], [9, 6], [5, 4, 3, 2, 1]]\n",
            "[[9, 8, 7, 6, 5, 4, 3, 2, 1]]\n",
            "Partitions of 10 with equal sums:\n",
            "[[6, 5], [7, 4], [8, 3], [9, 2], [10, 1]]\n",
            "[[10, 9, 8, 7, 6, 5, 4, 3, 2, 1]]\n"
          ]
        }
      ]
    },
    {
      "cell_type": "markdown",
      "source": [
        "## 3. Write a code that produces the list of all partititions of the set of $[n]=\\{ 1,2,3,4\\cdots , n-1, n\\}$ with $0 \\le n \\le 10$ and the sum of elements of the partition which is the a constant $\\frac{n(n+1)}{2}$."
      ],
      "metadata": {
        "id": "6lXHDPmHCZ15"
      }
    },
    {
      "cell_type": "code",
      "source": [
        "def partitions(n, sum_value):\n",
        "    def partition_helper(start, path, sum_so_far):\n",
        "        if sum_so_far == sum_value:\n",
        "            result.append(path)\n",
        "            return\n",
        "        if sum_so_far > sum_value:\n",
        "            return\n",
        "        for i in range(start, n + 1):\n",
        "            partition_helper(i + 1, path + [i], sum_so_far + i)\n",
        "\n",
        "    result = []\n",
        "    partition_helper(1, [], 0)\n",
        "    return result\n",
        "\n",
        "# Generate partitions for n = 0 to 10\n",
        "for i in range(11):\n",
        "    sum_value = i * (i + 1) // 2\n",
        "    print(f\"Partitions for n = {i} with sum = {sum_value}: {partitions(i, sum_value)}\")\n"
      ],
      "metadata": {
        "id": "bahIxhWdtfJG",
        "outputId": "36d615ae-2fac-4787-afff-6c94aa1bd3d4",
        "colab": {
          "base_uri": "https://localhost:8080/"
        }
      },
      "execution_count": 8,
      "outputs": [
        {
          "output_type": "stream",
          "name": "stdout",
          "text": [
            "Partitions for n = 0 with sum = 0: [[]]\n",
            "Partitions for n = 1 with sum = 1: [[1]]\n",
            "Partitions for n = 2 with sum = 3: [[1, 2]]\n",
            "Partitions for n = 3 with sum = 6: [[1, 2, 3]]\n",
            "Partitions for n = 4 with sum = 10: [[1, 2, 3, 4]]\n",
            "Partitions for n = 5 with sum = 15: [[1, 2, 3, 4, 5]]\n",
            "Partitions for n = 6 with sum = 21: [[1, 2, 3, 4, 5, 6]]\n",
            "Partitions for n = 7 with sum = 28: [[1, 2, 3, 4, 5, 6, 7]]\n",
            "Partitions for n = 8 with sum = 36: [[1, 2, 3, 4, 5, 6, 7, 8]]\n",
            "Partitions for n = 9 with sum = 45: [[1, 2, 3, 4, 5, 6, 7, 8, 9]]\n",
            "Partitions for n = 10 with sum = 55: [[1, 2, 3, 4, 5, 6, 7, 8, 9, 10]]\n"
          ]
        }
      ]
    }
  ]
}